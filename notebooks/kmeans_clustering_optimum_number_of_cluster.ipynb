{
 "cells": [
  {
   "cell_type": "markdown",
   "metadata": {},
   "source": [
    "### Unsupervised Learning: Kmeans Clustering \n",
    "- Dataset: Iris data\n",
    "- Learning Date: 22-Aug-23\n",
    "- Learning from: Prasert Kanawattanachai (CBS)\n",
    "    - Github: https://github.com/prasertcbs/"
   ]
  },
  {
   "cell_type": "code",
   "execution_count": 1,
   "metadata": {},
   "outputs": [],
   "source": [
    "# import libraries\n",
    "\n",
    "import pandas as pd\n",
    "import numpy as np\n",
    "import seaborn as sns\n",
    "import matplotlib.pyplot as plt\n",
    "\n",
    "%matplotlib inline\n",
    "%config InlineBackend.figure_format = 'retina'"
   ]
  },
  {
   "cell_type": "code",
   "execution_count": 2,
   "metadata": {},
   "outputs": [
    {
     "data": {
      "text/plain": [
       "Timestamp('2023-08-23 07:50:55.023683')"
      ]
     },
     "execution_count": 2,
     "metadata": {},
     "output_type": "execute_result"
    }
   ],
   "source": [
    "pd.Timestamp.now()"
   ]
  },
  {
   "cell_type": "code",
   "execution_count": 3,
   "metadata": {},
   "outputs": [],
   "source": [
    "from sklearn.datasets import make_blobs, make_classification"
   ]
  },
  {
   "cell_type": "code",
   "execution_count": 4,
   "metadata": {},
   "outputs": [
    {
     "ename": "TypeError",
     "evalue": "make_classification() got an unexpected keyword argument 'centers'",
     "output_type": "error",
     "traceback": [
      "\u001b[0;31m---------------------------------------------------------------------------\u001b[0m",
      "\u001b[0;31mTypeError\u001b[0m                                 Traceback (most recent call last)",
      "Cell \u001b[0;32mIn[4], line 1\u001b[0m\n\u001b[0;32m----> 1\u001b[0m X, y \u001b[39m=\u001b[39m make_classification(n_samples \u001b[39m=\u001b[39;49m \u001b[39m100\u001b[39;49m, centers \u001b[39m=\u001b[39;49m \u001b[39m4\u001b[39;49m, n_features \u001b[39m=\u001b[39;49m \u001b[39m2\u001b[39;49m, center_box \u001b[39m=\u001b[39;49m (\u001b[39m0\u001b[39;49m, \u001b[39m30\u001b[39;49m)) \u001b[39m# n_feature = 2 means that we gonna get only 2 X\u001b[39;00m\n",
      "\u001b[0;31mTypeError\u001b[0m: make_classification() got an unexpected keyword argument 'centers'"
     ]
    }
   ],
   "source": [
    "X, y = make_classification(n_samples = 100, centers = 4, n_features = 2, center_box = (0, 30)) # n_feature = 2 means that we gonna get only 2 X"
   ]
  },
  {
   "cell_type": "code",
   "execution_count": null,
   "metadata": {},
   "outputs": [],
   "source": [
    "# X, y = make_classification(n_samples = 100, n_classes = 4, n_clusters_per_class = 1, n_features = 2, n_redundant = 0)"
   ]
  },
  {
   "cell_type": "code",
   "execution_count": null,
   "metadata": {},
   "outputs": [],
   "source": []
  }
 ],
 "metadata": {
  "kernelspec": {
   "display_name": "conda_env",
   "language": "python",
   "name": "python3"
  },
  "language_info": {
   "codemirror_mode": {
    "name": "ipython",
    "version": 3
   },
   "file_extension": ".py",
   "mimetype": "text/x-python",
   "name": "python",
   "nbconvert_exporter": "python",
   "pygments_lexer": "ipython3",
   "version": "3.9.15"
  },
  "orig_nbformat": 4
 },
 "nbformat": 4,
 "nbformat_minor": 2
}
